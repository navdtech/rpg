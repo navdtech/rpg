{
 "cells": [
  {
   "cell_type": "code",
   "execution_count": 42,
   "metadata": {},
   "outputs": [],
   "source": [
    "import numpy as np\n",
    "import matplotlib.pyplot as plt\n",
    "import bellman as bel\n",
    "import pm\n",
    "from simProj import euclidean_proj_simplex as Proj"
   ]
  },
  {
   "cell_type": "code",
   "execution_count": 2,
   "metadata": {},
   "outputs": [
    {
     "data": {
      "text/plain": [
       "array([[0.12084289, 0.10165103, 0.01492084, 0.23978212, 0.08761627,\n",
       "        0.01894862, 0.09421075, 0.22273093, 0.09294138, 0.00635518],\n",
       "       [0.00936301, 0.10146896, 0.09594125, 0.17253447, 0.12543781,\n",
       "        0.03671477, 0.09154972, 0.17455913, 0.17647358, 0.0159573 ],\n",
       "       [0.02490862, 0.07512583, 0.08551754, 0.20154232, 0.20245671,\n",
       "        0.05733106, 0.04757222, 0.06436056, 0.11643588, 0.12474927],\n",
       "       [0.04229195, 0.01311429, 0.19615298, 0.07797664, 0.16976785,\n",
       "        0.13766119, 0.17010963, 0.06094337, 0.05963111, 0.07235099],\n",
       "       [0.00608031, 0.04584872, 0.09775513, 0.11467392, 0.13452641,\n",
       "        0.1233581 , 0.17480078, 0.13063958, 0.1512987 , 0.02101835]])"
      ]
     },
     "execution_count": 2,
     "metadata": {},
     "output_type": "execute_result"
    }
   ],
   "source": [
    "pm.P[0]"
   ]
  },
  {
   "cell_type": "code",
   "execution_count": 39,
   "metadata": {},
   "outputs": [],
   "source": [
    "def polUpdate(pi,gr,eta=0.001):\n",
    "    for s in range(pm.S):\n",
    "        pi[s] = Proj(pi[s]+eta*gr[s]) \n",
    "    return pi\n",
    "    \n",
    "def return()"
   ]
  },
  {
   "cell_type": "code",
   "execution_count": 41,
   "metadata": {},
   "outputs": [
    {
     "data": {
      "text/plain": [
       "array([[0.26196715, 0.20851189, 0.2085581 , 0.12573484, 0.19709796],\n",
       "       [0.2266831 , 0.27213251, 0.18473456, 0.17930523, 0.13982054],\n",
       "       [0.2633023 , 0.35267949, 0.28318917, 0.03103009, 0.07247681],\n",
       "       [0.25178527, 0.1539654 , 0.11212347, 0.15215962, 0.33225166],\n",
       "       [0.19252956, 0.04253142, 0.44637965, 0.18516952, 0.13545262],\n",
       "       [0.06239192, 0.03651457, 0.49789561, 0.38624809, 0.01930946],\n",
       "       [0.05651997, 0.29002129, 0.10969245, 0.30609283, 0.23994683],\n",
       "       [0.15949747, 0.24541046, 0.22004073, 0.22923097, 0.14858061],\n",
       "       [0.25563163, 0.21016022, 0.09575838, 0.15756845, 0.28284574],\n",
       "       [0.4171142 , 0.00977854, 0.08165713, 0.36163982, 0.13237873]])"
      ]
     },
     "execution_count": 41,
     "metadata": {},
     "output_type": "execute_result"
    }
   ],
   "source": [
    "polUpdate(pm.pi,gr)"
   ]
  },
  {
   "cell_type": "code",
   "execution_count": 28,
   "metadata": {},
   "outputs": [
    {
     "data": {
      "text/plain": [
       "array([0.26093581, 0.20880906, 0.20570578, 0.12956416, 0.19498519])"
      ]
     },
     "execution_count": 28,
     "metadata": {},
     "output_type": "execute_result"
    }
   ],
   "source": [
    "euclidean_proj_simplex(pm.pi[0])"
   ]
  },
  {
   "cell_type": "code",
   "execution_count": 20,
   "metadata": {},
   "outputs": [],
   "source": [
    "gr = bel.RPG(rect='nr')"
   ]
  },
  {
   "cell_type": "code",
   "execution_count": 21,
   "metadata": {},
   "outputs": [
    {
     "data": {
      "text/plain": [
       "array([[-1.66592107, -2.33017334, -0.75543316, -4.0962496 , -1.1252011 ],\n",
       "       [-2.43398434, -3.2276466 , -2.34678815, -3.20128448, -3.06201355],\n",
       "       [-2.58090963, -2.70569368, -4.98549271, -1.87785619, -2.13196618],\n",
       "       [-1.30235711, -1.9594632 , -4.13569835, -2.71205566, -2.07930905],\n",
       "       [-1.88554202, -2.62754172, -3.61392897, -0.37967274, -2.49478144],\n",
       "       [-2.58432573, -2.96937371, -3.05153045, -1.06060284, -2.91898336],\n",
       "       [-3.18280722, -2.59176105, -1.71506269, -1.97580827, -2.65921026],\n",
       "       [-2.37093583, -3.21279271, -3.52292304, -2.62491478, -2.98968247],\n",
       "       [-0.53116618, -2.58438357, -2.41223462, -1.81790113, -3.13123098],\n",
       "       [-5.10658828, -1.71025456, -2.75194072, -2.78728359, -1.34215539]])"
      ]
     },
     "execution_count": 21,
     "metadata": {},
     "output_type": "execute_result"
    }
   ],
   "source": [
    "gr"
   ]
  },
  {
   "cell_type": "code",
   "execution_count": 22,
   "metadata": {},
   "outputs": [],
   "source": [
    "pi_ = polUpdate(pm.pi,gr,eta=0.0001)"
   ]
  },
  {
   "cell_type": "code",
   "execution_count": 24,
   "metadata": {},
   "outputs": [
    {
     "data": {
      "text/plain": [
       "array([1., 1., 1., 1., 1., 1., 1., 1., 1., 1.])"
      ]
     },
     "execution_count": 24,
     "metadata": {},
     "output_type": "execute_result"
    }
   ],
   "source": [
    "np.sum(pi_,axis=1)"
   ]
  },
  {
   "cell_type": "code",
   "execution_count": 47,
   "metadata": {},
   "outputs": [],
   "source": [
    "RR = np.loadtxt('PG_methods_SnrA10.txt')"
   ]
  },
  {
   "cell_type": "code",
   "execution_count": 49,
   "metadata": {},
   "outputs": [
    {
     "data": {
      "text/plain": [
       "[<matplotlib.lines.Line2D at 0x7feadd0cff40>,\n",
       " <matplotlib.lines.Line2D at 0x7feadd0cff70>]"
      ]
     },
     "execution_count": 49,
     "metadata": {},
     "output_type": "execute_result"
    },
    {
     "data": {
      "image/png": "[encoded data removed]",
      "text/plain": [
       "<Figure size 432x288 with 1 Axes>"
      ]
     },
     "metadata": {
      "needs_background": "light"
     },
     "output_type": "display_data"
    }
   ],
   "source": [
    "plt.plot(np.transpose(RR))"
   ]
  },
  {
   "cell_type": "code",
   "execution_count": null,
   "metadata": {},
   "outputs": [],
   "source": []
  }
 ],
 "metadata": {
  "kernelspec": {
   "display_name": "Python 3",
   "language": "python",
   "name": "python3"
  },
  "language_info": {
   "codemirror_mode": {
    "name": "ipython",
    "version": 3
   },
   "file_extension": ".py",
   "mimetype": "text/x-python",
   "name": "python",
   "nbconvert_exporter": "python",
   "pygments_lexer": "ipython3",
   "version": "3.8.10"
  }
 },
 "nbformat": 4,
 "nbformat_minor": 4
}
