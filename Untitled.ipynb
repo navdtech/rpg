{
 "cells": [
  {
   "cell_type": "code",
   "execution_count": 1,
   "metadata": {},
   "outputs": [],
   "source": [
    "import sys\n",
    "import bellman as T\n",
    "import pm as pm\n",
    "import numpy as np\n",
    "import matplotlib.pyplot as plt"
   ]
  },
  {
   "cell_type": "code",
   "execution_count": 10,
   "metadata": {},
   "outputs": [
    {
     "data": {
      "text/plain": [
       "-18.43710371651626"
      ]
     },
     "execution_count": 10,
     "metadata": {},
     "output_type": "execute_result"
    }
   ],
   "source": [
    "T.RPG(p='inf',rect='sa')"
   ]
  },
  {
   "cell_type": "code",
   "execution_count": null,
   "metadata": {},
   "outputs": [],
   "source": []
  },
  {
   "cell_type": "code",
   "execution_count": 2,
   "metadata": {},
   "outputs": [
    {
     "data": {
      "text/plain": [
       "array([[0.2506972 , 0.13934429, 0.6099585 ],\n",
       "       [0.33568649, 0.34359295, 0.32072056],\n",
       "       [0.32360068, 0.01784357, 0.65855574],\n",
       "       [0.10903195, 0.42773197, 0.46323608],\n",
       "       [0.35688823, 0.34976344, 0.29334833]])"
      ]
     },
     "execution_count": 2,
     "metadata": {},
     "output_type": "execute_result"
    }
   ],
   "source": [
    "v = pm.v0\n",
    "\n",
    "pi  =pm.pi\n",
    "pi"
   ]
  },
  {
   "cell_type": "code",
   "execution_count": 13,
   "metadata": {},
   "outputs": [],
   "source": [
    "p ='inf'\n",
    "if p !=1 and p!= 'inf':\n",
    "    print(3)"
   ]
  },
  {
   "cell_type": "code",
   "execution_count": null,
   "metadata": {},
   "outputs": [],
   "source": []
  },
  {
   "cell_type": "code",
   "execution_count": 10,
   "metadata": {},
   "outputs": [
    {
     "data": {
      "text/plain": [
       "5.472458800610792"
      ]
     },
     "execution_count": 10,
     "metadata": {},
     "output_type": "execute_result"
    }
   ],
   "source": [
    "np.dot(v,v)"
   ]
  },
  {
   "cell_type": "code",
   "execution_count": 8,
   "metadata": {},
   "outputs": [
    {
     "data": {
      "text/plain": [
       "array([[ 1.33555046,  0.10363147, -0.67270198],\n",
       "       [ 0.98440821,  0.92213233, -0.4270767 ],\n",
       "       [ 0.78295616,  1.31863747,  0.14468308],\n",
       "       [-2.48164093, -0.38349016, -0.58137847],\n",
       "       [ 0.39471755, -2.03027269,  0.2772542 ]])"
      ]
     },
     "execution_count": 8,
     "metadata": {},
     "output_type": "execute_result"
    }
   ],
   "source": [
    "T.Qvalue(v,p=3,rect='sa')"
   ]
  },
  {
   "cell_type": "code",
   "execution_count": 20,
   "metadata": {},
   "outputs": [
    {
     "data": {
      "text/plain": [
       "91"
      ]
     },
     "execution_count": 20,
     "metadata": {},
     "output_type": "execute_result"
    }
   ],
   "source": [
    "int(np.log(0.001/(pm.S*pm.A))/np.log(0.9))"
   ]
  },
  {
   "cell_type": "code",
   "execution_count": 25,
   "metadata": {},
   "outputs": [
    {
     "data": {
      "text/plain": [
       "array([[ 0.01189699,  0.03565654,  0.0366871 ],\n",
       "       [-0.26209986, -0.25177388, -0.26945977],\n",
       "       [ 0.22833939,  0.27212248,  0.43632865],\n",
       "       [ 0.92640998,  0.23734042,  1.12896018],\n",
       "       [ 0.1195565 ,  0.08244279,  0.04015876]])"
      ]
     },
     "execution_count": 25,
     "metadata": {},
     "output_type": "execute_result"
    }
   ],
   "source": [
    "np.multiply(pi,v[:,None])"
   ]
  },
  {
   "cell_type": "code",
   "execution_count": 27,
   "metadata": {},
   "outputs": [
    {
     "data": {
      "text/plain": [
       "(array([ 0.08424062, -0.78333352,  0.93679052,  2.29271058,  0.24215804]),\n",
       " array([[0.14122623, 0.42327011, 0.43550366],\n",
       "        [0.33459549, 0.32141339, 0.34399112],\n",
       "        [0.24374647, 0.29048381, 0.46576971],\n",
       "        [0.40406756, 0.10351957, 0.49241286],\n",
       "        [0.49371268, 0.34045034, 0.16583697]]))"
      ]
     },
     "execution_count": 27,
     "metadata": {},
     "output_type": "execute_result"
    }
   ],
   "source": [
    "v, pi"
   ]
  },
  {
   "cell_type": "code",
   "execution_count": 22,
   "metadata": {},
   "outputs": [
    {
     "data": {
      "text/plain": [
       "(array([0, 0, 0, 0, 0]), array([1, 1, 1, 2, 1]))"
      ]
     },
     "execution_count": 22,
     "metadata": {},
     "output_type": "execute_result"
    }
   ],
   "source": [
    "ind = np.unravel_index(np.argmax(pi, axis=1), pi.shape)\n",
    "ind"
   ]
  },
  {
   "cell_type": "code",
   "execution_count": 24,
   "metadata": {},
   "outputs": [
    {
     "data": {
      "text/plain": [
       "array([1, 1, 1, 2, 1])"
      ]
     },
     "execution_count": 24,
     "metadata": {},
     "output_type": "execute_result"
    }
   ],
   "source": [
    "ind = np.argmax(pi, axis=1)\n",
    "ind"
   ]
  },
  {
   "cell_type": "code",
   "execution_count": 37,
   "metadata": {},
   "outputs": [
    {
     "data": {
      "text/plain": [
       "array([[0., 1., 0.],\n",
       "       [0., 1., 0.],\n",
       "       [0., 1., 0.],\n",
       "       [0., 0., 1.],\n",
       "       [0., 1., 0.]])"
      ]
     },
     "execution_count": 37,
     "metadata": {},
     "output_type": "execute_result"
    }
   ],
   "source": [
    "t = np.eye(5,3)[ind]\n",
    "t"
   ]
  },
  {
   "cell_type": "code",
   "execution_count": 38,
   "metadata": {},
   "outputs": [
    {
     "data": {
      "text/plain": [
       "array([[0. , 0.1, 0. ],\n",
       "       [0. , 0.1, 0. ],\n",
       "       [0. , 0.1, 0. ],\n",
       "       [0. , 0. , 0.1],\n",
       "       [0. , 0.1, 0. ]])"
      ]
     },
     "execution_count": 38,
     "metadata": {},
     "output_type": "execute_result"
    }
   ],
   "source": [
    "np.diag(pm.alphaS)@t"
   ]
  },
  {
   "cell_type": "code",
   "execution_count": 47,
   "metadata": {},
   "outputs": [],
   "source": [
    "def Q(pi,p):\n",
    "        q = p/(p-1)\n",
    "        pi = pi**(q-1)\n",
    "        temp = (np.sum(pi**p,axis=1))**(1/p)\n",
    "        return np.diag(1/temp)@pi \n",
    "        "
   ]
  },
  {
   "cell_type": "code",
   "execution_count": 48,
   "metadata": {},
   "outputs": [
    {
     "data": {
      "text/plain": [
       "array([[0.26075056, 0.89119238, 0.37119441],\n",
       "       [0.01499003, 0.90637687, 0.42220407],\n",
       "       [0.67131333, 0.7382338 , 0.06594897],\n",
       "       [0.48266257, 0.21213674, 0.84972634],\n",
       "       [0.43789851, 0.89641897, 0.06839538]])"
      ]
     },
     "execution_count": 48,
     "metadata": {},
     "output_type": "execute_result"
    }
   ],
   "source": [
    "p = Q(pi,2)\n",
    "p"
   ]
  },
  {
   "cell_type": "code",
   "execution_count": 49,
   "metadata": {},
   "outputs": [
    {
     "data": {
      "text/plain": [
       "array([1., 1., 1., 1., 1.])"
      ]
     },
     "execution_count": 49,
     "metadata": {},
     "output_type": "execute_result"
    }
   ],
   "source": [
    "np.sum(p**2,axis=1)"
   ]
  },
  {
   "cell_type": "code",
   "execution_count": null,
   "metadata": {},
   "outputs": [],
   "source": []
  },
  {
   "cell_type": "code",
   "execution_count": null,
   "metadata": {},
   "outputs": [],
   "source": []
  },
  {
   "cell_type": "code",
   "execution_count": 20,
   "metadata": {},
   "outputs": [
    {
     "ename": "SyntaxError",
     "evalue": "expected ':' (301132942.py, line 2)",
     "output_type": "error",
     "traceback": [
      "\u001b[0;36m  Cell \u001b[0;32mIn[20], line 2\u001b[0;36m\u001b[0m\n\u001b[0;31m    for s in range()\u001b[0m\n\u001b[0m                    ^\u001b[0m\n\u001b[0;31mSyntaxError\u001b[0m\u001b[0;31m:\u001b[0m expected ':'\n"
     ]
    }
   ],
   "source": [
    "piT = pm.pi*0\n",
    "for s in range()"
   ]
  },
  {
   "cell_type": "code",
   "execution_count": 14,
   "metadata": {},
   "outputs": [
    {
     "name": "stderr",
     "output_type": "stream",
     "text": [
      "/var/folders/2t/5ld6pnyd2496jm58n716mrjw0000gn/T/ipykernel_37490/2847413014.py:1: DeprecationWarning: elementwise comparison failed; this will raise an error in the future.\n",
      "  pi==pi.max(axis=1)\n"
     ]
    },
    {
     "data": {
      "text/plain": [
       "False"
      ]
     },
     "execution_count": 14,
     "metadata": {},
     "output_type": "execute_result"
    }
   ],
   "source": [
    "pi==pi.max(axis=1)"
   ]
  },
  {
   "cell_type": "code",
   "execution_count": null,
   "metadata": {},
   "outputs": [],
   "source": []
  },
  {
   "cell_type": "code",
   "execution_count": null,
   "metadata": {},
   "outputs": [],
   "source": []
  },
  {
   "cell_type": "code",
   "execution_count": 4,
   "metadata": {},
   "outputs": [],
   "source": [
    "pi[list(enumerate(ind))]=1"
   ]
  },
  {
   "cell_type": "code",
   "execution_count": 5,
   "metadata": {},
   "outputs": [
    {
     "data": {
      "text/plain": [
       "array([[1., 1., 1.],\n",
       "       [1., 1., 1.],\n",
       "       [1., 1., 1.],\n",
       "       [1., 1., 1.],\n",
       "       [1., 1., 1.]])"
      ]
     },
     "execution_count": 5,
     "metadata": {},
     "output_type": "execute_result"
    }
   ],
   "source": [
    "pm.pi"
   ]
  },
  {
   "cell_type": "code",
   "execution_count": 9,
   "metadata": {},
   "outputs": [
    {
     "data": {
      "text/plain": [
       "-0.07925096173884096"
      ]
     },
     "execution_count": 9,
     "metadata": {},
     "output_type": "execute_result"
    }
   ],
   "source": [
    "pm.P[0,1]@v"
   ]
  },
  {
   "cell_type": "code",
   "execution_count": 2,
   "metadata": {},
   "outputs": [
    {
     "data": {
      "text/plain": [
       "array([0.52867177, 0.96741658, 0.00725125, 0.81860863])"
      ]
     },
     "execution_count": 2,
     "metadata": {},
     "output_type": "execute_result"
    }
   ],
   "source": [
    "v= np.random.rand(4)\n",
    "v"
   ]
  },
  {
   "cell_type": "code",
   "execution_count": 20,
   "metadata": {},
   "outputs": [
    {
     "data": {
      "text/plain": [
       "array([ 1.,  1., -1., -1.])"
      ]
     },
     "execution_count": 20,
     "metadata": {},
     "output_type": "execute_result"
    }
   ],
   "source": [
    "p='inf'\n",
    "u = T.BalancedNormed(v,p=p)\n",
    "u"
   ]
  },
  {
   "cell_type": "code",
   "execution_count": 21,
   "metadata": {},
   "outputs": [
    {
     "data": {
      "text/plain": [
       "(3, 0)"
      ]
     },
     "execution_count": 21,
     "metadata": {},
     "output_type": "execute_result"
    }
   ],
   "source": [
    "np.argmin(v), np.argmax(v)"
   ]
  },
  {
   "cell_type": "code",
   "execution_count": 24,
   "metadata": {},
   "outputs": [
    {
     "data": {
      "text/plain": [
       "(0.0, array([ 1.,  1., -1., -1.]))"
      ]
     },
     "execution_count": 24,
     "metadata": {},
     "output_type": "execute_result"
    }
   ],
   "source": [
    "np.sum(u),u #, np.sum(np.abs(u)**p)**(1/p)"
   ]
  },
  {
   "cell_type": "code",
   "execution_count": 9,
   "metadata": {},
   "outputs": [],
   "source": [
    "def U(v,p,tol=0.001):\n",
    "    q = p/(p-1)\n",
    "    w = T.Omega(v=v,p=p,tol=tol)    # Computing the mean with toreance O(1/S)\n",
    "    k = T.Kappa(v=v,p=p,tol=tol)\n",
    "    if k ==0:\n",
    "        return 0*v\n",
    "    u = v-w\n",
    "    sign = np.where(u>0,1,-1)*np.where(u==0,0,1) \n",
    "    return sign*((np.abs(u)/k)**(q-1))"
   ]
  },
  {
   "cell_type": "code",
   "execution_count": 21,
   "metadata": {},
   "outputs": [
    {
     "data": {
      "text/plain": [
       "(array([-0.77768977, -0.09772849, -0.35163529,  0.78570544]),\n",
       " -0.4413481215975795)"
      ]
     },
     "execution_count": 21,
     "metadata": {},
     "output_type": "execute_result"
    }
   ],
   "source": [
    "tol = 0.001\n",
    "p=3\n",
    "u = U(v,p=3)\n",
    "u, np.sum(u)"
   ]
  },
  {
   "cell_type": "code",
   "execution_count": 23,
   "metadata": {},
   "outputs": [
    {
     "data": {
      "text/plain": [
       "(0.4256070154828863, 0.46867134886661455)"
      ]
     },
     "execution_count": 23,
     "metadata": {},
     "output_type": "execute_result"
    }
   ],
   "source": [
    "w = T.Omega(v=v,p=p,tol=tol)    # Computing the mean with toreance O(1/S)\n",
    "k = T.Kappa(v=v,p=p,tol=tol)\n",
    "w,k"
   ]
  },
  {
   "cell_type": "code",
   "execution_count": 34,
   "metadata": {},
   "outputs": [
    {
     "data": {
      "text/plain": [
       "0.46867134886661455"
      ]
     },
     "execution_count": 34,
     "metadata": {},
     "output_type": "execute_result"
    }
   ],
   "source": [
    "np.sum(np.abs((v-w))**(T.Holder(p)))**(1/T.Holder(p))"
   ]
  },
  {
   "cell_type": "code",
   "execution_count": 37,
   "metadata": {},
   "outputs": [],
   "source": [
    "\n",
    "def f(V,x,p=2): # Helper function,     derivative of \\kappa\n",
    "    return np.sum([np.sign(v-x)*np.abs(v-x)**(1/(p-1)) for v in V])\n"
   ]
  },
  {
   "cell_type": "code",
   "execution_count": 38,
   "metadata": {},
   "outputs": [],
   "source": [
    "\n",
    "def Omega(v,tol=0.0001, p=2, mode='auto'):  #calculates kappa: input value fucntion v, tolerance tol, p \n",
    "    if p==1:\n",
    "        return 0.5*(np.max(v)+np.min(v))\n",
    "    if p==2 and (mode =='auto' or mode =='exact') :\n",
    "        return np.mean(v)\n",
    "    if p== 'inf':\n",
    "        return np.median(v)\n",
    "    \n",
    "    # Else \n",
    "    q = p/(p-1)\n",
    "    ### Computes p mean, omega ###\n",
    "    mx = np.max(v)\n",
    "    mn = np.min(v)\n",
    "    x = (mx+mn)/2\n",
    "    while mx-mn > tol:\n",
    "        x = (mx+mn)/2\n",
    "        y = f(v,x,q)\n",
    "        # print(q,x,y,mn,mx)\n",
    "        if y > 0:\n",
    "            mn = x\n",
    "        if y < 0:\n",
    "            mx = x\n",
    "        if y ==0:\n",
    "            return x\n",
    "    return x, tol"
   ]
  },
  {
   "cell_type": "code",
   "execution_count": 40,
   "metadata": {},
   "outputs": [
    {
     "data": {
      "text/plain": [
       "(0.42539725740622475, 0.0001)"
      ]
     },
     "execution_count": 40,
     "metadata": {},
     "output_type": "execute_result"
    }
   ],
   "source": [
    "Omega(v=v,p=p)"
   ]
  },
  {
   "cell_type": "code",
   "execution_count": 76,
   "metadata": {},
   "outputs": [],
   "source": [
    "def U(v,p,tol):\n",
    "    q = p/(p-1)\n",
    "    ### Computes p mean, omega ###\n",
    "    mx = np.max(v)\n",
    "    mn = np.min(v)\n",
    "    x = (mx+mn)/2\n",
    "    while mx-mn > tol/100:\n",
    "        x = (mx+mn)/2\n",
    "        u = np.sign(v-x)*(np.abs(v-x)**(q-1))\n",
    "        cond = np.sum(u)\n",
    "        # print(q,x,y,mn,mx)\n",
    "        if cond > 0:\n",
    "            mn = x\n",
    "        if cond < 0:\n",
    "            mx = x\n",
    "        if cond ==0:\n",
    "            return  u/(np.sum(np.abs(u)**p)**(1/p))\n",
    "    return u/(np.sum(np.abs(u)**p)**(1/p))"
   ]
  },
  {
   "cell_type": "code",
   "execution_count": 80,
   "metadata": {},
   "outputs": [
    {
     "data": {
      "text/plain": [
       "array([ 0.54155051, -0.36362892, -0.26982961,  0.42261356, -0.21452091,\n",
       "        0.53422488, -0.48177704,  0.65631839, -0.42976634, -0.39518656])"
      ]
     },
     "execution_count": 80,
     "metadata": {},
     "output_type": "execute_result"
    }
   ],
   "source": [
    "u = U(np.random.rand(10),p,tol=0.0001)\n",
    "u"
   ]
  },
  {
   "cell_type": "code",
   "execution_count": 81,
   "metadata": {},
   "outputs": [
    {
     "data": {
      "text/plain": [
       "-2.0529894366183576e-06"
      ]
     },
     "execution_count": 81,
     "metadata": {},
     "output_type": "execute_result"
    }
   ],
   "source": [
    "np.sum(u)"
   ]
  },
  {
   "cell_type": "code",
   "execution_count": 82,
   "metadata": {},
   "outputs": [
    {
     "data": {
      "text/plain": [
       "1.0"
      ]
     },
     "execution_count": 82,
     "metadata": {},
     "output_type": "execute_result"
    }
   ],
   "source": [
    "np.sum(np.abs(u)**p)**(1/p)"
   ]
  },
  {
   "cell_type": "code",
   "execution_count": null,
   "metadata": {},
   "outputs": [],
   "source": []
  },
  {
   "cell_type": "code",
   "execution_count": 31,
   "metadata": {},
   "outputs": [
    {
     "data": {
      "text/plain": [
       "1.5"
      ]
     },
     "execution_count": 31,
     "metadata": {},
     "output_type": "execute_result"
    }
   ],
   "source": [
    "T.Holder(p)"
   ]
  },
  {
   "cell_type": "code",
   "execution_count": 15,
   "metadata": {},
   "outputs": [
    {
     "data": {
      "text/plain": [
       "0.11501141147693034"
      ]
     },
     "execution_count": 15,
     "metadata": {},
     "output_type": "execute_result"
    }
   ],
   "source": [
    "x = T.Omega(pm.v0,p=p)\n",
    "x"
   ]
  },
  {
   "cell_type": "code",
   "execution_count": 16,
   "metadata": {},
   "outputs": [
    {
     "data": {
      "text/plain": [
       "1.1111111111111112"
      ]
     },
     "execution_count": 16,
     "metadata": {},
     "output_type": "execute_result"
    }
   ],
   "source": [
    "q = p/(p-1)\n",
    "q"
   ]
  },
  {
   "cell_type": "code",
   "execution_count": 17,
   "metadata": {},
   "outputs": [
    {
     "data": {
      "text/plain": [
       "3.0274171096470948"
      ]
     },
     "execution_count": 17,
     "metadata": {},
     "output_type": "execute_result"
    }
   ],
   "source": [
    "\n",
    "np.sum(np.abs(v-x)**q)**(1/q)"
   ]
  },
  {
   "cell_type": "code",
   "execution_count": 7,
   "metadata": {},
   "outputs": [
    {
     "data": {
      "text/plain": [
       "array([1.64287309, 1.92056006, 2.17617858, 1.77155409, 2.48883418])"
      ]
     },
     "execution_count": 7,
     "metadata": {},
     "output_type": "execute_result"
    }
   ],
   "source": [
    "np.mean(np.linalg.inv((np.eye(5)-0.9*T.Ppi())), axis=0)"
   ]
  },
  {
   "cell_type": "code",
   "execution_count": 4,
   "metadata": {},
   "outputs": [
    {
     "data": {
      "text/plain": [
       "array([1., 1., 1., 1., 1.])"
      ]
     },
     "execution_count": 4,
     "metadata": {},
     "output_type": "execute_result"
    }
   ],
   "source": [
    "np.sum(T.Ppi(), axis=1)"
   ]
  },
  {
   "cell_type": "code",
   "execution_count": 7,
   "metadata": {},
   "outputs": [
    {
     "data": {
      "text/plain": [
       "0.07337721505250681"
      ]
     },
     "execution_count": 7,
     "metadata": {},
     "output_type": "execute_result"
    }
   ],
   "source": [
    "pm.pi[0]@pm.P[0,:,0]"
   ]
  },
  {
   "cell_type": "code",
   "execution_count": 5,
   "metadata": {},
   "outputs": [
    {
     "data": {
      "text/plain": [
       "array([1., 1., 1., 1., 1., 1., 1., 1., 1., 1., 1., 1., 1., 1., 1., 1., 1.,\n",
       "       1., 1., 1., 1., 1., 1., 1., 1., 1., 1., 1., 1., 1., 1., 1., 1., 1.,\n",
       "       1., 1., 1., 1., 1., 1., 1., 1., 1., 1., 1., 1., 1., 1., 1., 1., 1.,\n",
       "       1., 1., 1., 1., 1., 1., 1., 1., 1., 1., 1., 1., 1., 1., 1., 1., 1.,\n",
       "       1., 1., 1., 1., 1., 1., 1., 1., 1., 1., 1., 1., 1., 1., 1., 1., 1.,\n",
       "       1., 1., 1., 1., 1., 1., 1., 1., 1., 1., 1., 1., 1., 1., 1.])"
      ]
     },
     "execution_count": 5,
     "metadata": {},
     "output_type": "execute_result"
    }
   ],
   "source": [
    "np.sum(pm.pi,axis=1)"
   ]
  },
  {
   "cell_type": "code",
   "execution_count": 7,
   "metadata": {},
   "outputs": [],
   "source": [
    "def norm(x):\n",
    "    return np.max(np.abs(x))"
   ]
  },
  {
   "cell_type": "code",
   "execution_count": 5,
   "metadata": {},
   "outputs": [
    {
     "data": {
      "text/plain": [
       "array([1.47167705, 1.81904007, 2.90892922, 1.80758287, 1.37858507,\n",
       "       1.61661522, 2.12725303, 3.06089174, 2.32040564, 1.74564162,\n",
       "       1.37213172, 2.55863432, 2.88618064, 2.21288369, 1.43338718,\n",
       "       1.90207688, 2.06946708, 1.9742666 , 1.6798313 , 2.3738324 ,\n",
       "       1.65609504, 1.9536919 , 1.80825545, 2.49407611, 1.75040233,\n",
       "       2.11814172, 2.65121947, 2.23595119, 3.06143992, 1.48526177,\n",
       "       2.54300271, 2.30571869, 1.83432559, 1.65417206, 1.28574382,\n",
       "       1.86195762, 2.51578804, 3.04298808, 2.10260825, 2.4157689 ,\n",
       "       2.98976235, 2.51990031, 1.86935553, 1.86790988, 2.09055801,\n",
       "       1.608247  , 2.28676877, 1.50391869, 1.86417745, 2.00924643,\n",
       "       1.80428127, 2.76516526, 2.16550528, 1.63430937, 2.1650076 ,\n",
       "       1.85515106, 2.76542383, 1.96582666, 2.19473336, 1.50344216,\n",
       "       2.2687009 , 2.1434564 , 1.77309268, 1.89997769, 2.01120644,\n",
       "       2.17806766, 1.49844414, 2.70588918, 1.93985177, 3.24428137,\n",
       "       1.41556936, 2.24389225, 2.62352294, 2.80389641, 3.01487509,\n",
       "       2.46041539, 2.08870907, 2.11053608, 2.92168585, 2.29357415,\n",
       "       2.12395997, 2.58073383, 1.51817784, 3.95752593, 1.98296457,\n",
       "       2.56373944, 1.22962147, 2.47601572, 2.29320507, 1.45115443,\n",
       "       2.10362363, 1.9780093 , 1.9626096 , 1.49073143, 2.04406313,\n",
       "       0.62225296, 2.28037504, 1.21673884, 2.87926359, 2.53328206])"
      ]
     },
     "execution_count": 5,
     "metadata": {},
     "output_type": "execute_result"
    }
   ],
   "source": [
    "v = np.random.rand(pm.S)\n",
    "T.RVI(v)"
   ]
  },
  {
   "cell_type": "code",
   "execution_count": 17,
   "metadata": {},
   "outputs": [],
   "source": [
    "V = [v]\n",
    "D = []\n",
    "for i in range(200):\n",
    "    V.append(T.RVI(V[-1]))\n",
    "    D.append(norm(V[-1]-V[-2]))"
   ]
  },
  {
   "cell_type": "code",
   "execution_count": 18,
   "metadata": {},
   "outputs": [
    {
     "data": {
      "text/plain": [
       "[<matplotlib.lines.Line2D at 0x7f69d476a520>]"
      ]
     },
     "execution_count": 18,
     "metadata": {},
     "output_type": "execute_result"
    },
    {
     "data": {
      "image/png": "[encoded data removed]",
      "text/plain": [
       "<Figure size 432x288 with 1 Axes>"
      ]
     },
     "metadata": {
      "needs_background": "light"
     },
     "output_type": "display_data"
    }
   ],
   "source": []
  },
  {
   "cell_type": "code",
   "execution_count": 11,
   "metadata": {},
   "outputs": [
    {
     "data": {
      "text/plain": [
       "(array([[[1, 1, 1],\n",
       "         [3, 3, 2]],\n",
       " \n",
       "        [[3, 4, 4],\n",
       "         [1, 1, 3]],\n",
       " \n",
       "        [[1, 3, 2],\n",
       "         [3, 4, 4]]]),\n",
       " array([[1, 2],\n",
       "        [3, 2],\n",
       "        [4, 0]]))"
      ]
     },
     "execution_count": 11,
     "metadata": {},
     "output_type": "execute_result"
    }
   ],
   "source": [
    "p = np.random.randint(0,5,(3,2,3))\n",
    "pi = np.random.randint(0,5,(3,2))\n",
    "\n",
    "p, pi"
   ]
  },
  {
   "cell_type": "code",
   "execution_count": 21,
   "metadata": {},
   "outputs": [
    {
     "data": {
      "text/plain": [
       "array([7, 7, 5])"
      ]
     },
     "execution_count": 21,
     "metadata": {},
     "output_type": "execute_result"
    }
   ],
   "source": [
    "pi[0]@p[0]"
   ]
  },
  {
   "cell_type": "code",
   "execution_count": 14,
   "metadata": {},
   "outputs": [
    {
     "ename": "ValueError",
     "evalue": "operands could not be broadcast together with shapes (3,2) (2,3) ",
     "output_type": "error",
     "traceback": [
      "\u001b[0;31m---------------------------------------------------------------------------\u001b[0m",
      "\u001b[0;31mValueError\u001b[0m                                Traceback (most recent call last)",
      "\u001b[0;32m<ipython-input-14-8de2d21f2bcb>\u001b[0m in \u001b[0;36m<module>\u001b[0;34m\u001b[0m\n\u001b[0;32m----> 1\u001b[0;31m \u001b[0mpi\u001b[0m\u001b[0;34m*\u001b[0m\u001b[0mp\u001b[0m\u001b[0;34m[\u001b[0m\u001b[0;36m0\u001b[0m\u001b[0;34m]\u001b[0m\u001b[0;34m\u001b[0m\u001b[0;34m\u001b[0m\u001b[0m\n\u001b[0m",
      "\u001b[0;31mValueError\u001b[0m: operands could not be broadcast together with shapes (3,2) (2,3) "
     ]
    }
   ],
   "source": [
    "pi*p[0]"
   ]
  },
  {
   "cell_type": "code",
   "execution_count": 10,
   "metadata": {},
   "outputs": [
    {
     "ename": "NameError",
     "evalue": "name 'pi' is not defined",
     "output_type": "error",
     "traceback": [
      "\u001b[0;31m---------------------------------------------------------------------------\u001b[0m",
      "\u001b[0;31mNameError\u001b[0m                                 Traceback (most recent call last)",
      "\u001b[0;32m<ipython-input-10-f84ab820532c>\u001b[0m in \u001b[0;36m<module>\u001b[0;34m\u001b[0m\n\u001b[0;32m----> 1\u001b[0;31m \u001b[0mpi\u001b[0m\u001b[0;34m\u001b[0m\u001b[0;34m\u001b[0m\u001b[0m\n\u001b[0m",
      "\u001b[0;31mNameError\u001b[0m: name 'pi' is not defined"
     ]
    }
   ],
   "source": [
    "pi"
   ]
  },
  {
   "cell_type": "code",
   "execution_count": 13,
   "metadata": {},
   "outputs": [
    {
     "ename": "AttributeError",
     "evalue": "module 'pm' has no attribute 'v'",
     "output_type": "error",
     "traceback": [
      "\u001b[0;31m---------------------------------------------------------------------------\u001b[0m",
      "\u001b[0;31mAttributeError\u001b[0m                            Traceback (most recent call last)",
      "\u001b[0;32m<ipython-input-13-fe572562ce21>\u001b[0m in \u001b[0;36m<module>\u001b[0;34m\u001b[0m\n\u001b[0;32m----> 1\u001b[0;31m \u001b[0mpm\u001b[0m\u001b[0;34m.\u001b[0m\u001b[0mv\u001b[0m\u001b[0;34m\u001b[0m\u001b[0;34m\u001b[0m\u001b[0m\n\u001b[0m",
      "\u001b[0;31mAttributeError\u001b[0m: module 'pm' has no attribute 'v'"
     ]
    }
   ],
   "source": [
    "pm.v"
   ]
  },
  {
   "cell_type": "code",
   "execution_count": null,
   "metadata": {},
   "outputs": [],
   "source": []
  }
 ],
 "metadata": {
  "kernelspec": {
   "display_name": "Python 3 (ipykernel)",
   "language": "python",
   "name": "python3"
  },
  "language_info": {
   "codemirror_mode": {
    "name": "ipython",
    "version": 3
   },
   "file_extension": ".py",
   "mimetype": "text/x-python",
   "name": "python",
   "nbconvert_exporter": "python",
   "pygments_lexer": "ipython3",
   "version": "3.11.1"
  }
 },
 "nbformat": 4,
 "nbformat_minor": 4
}
